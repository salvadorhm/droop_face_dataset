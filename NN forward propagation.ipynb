{
 "cells": [
  {
   "cell_type": "code",
   "execution_count": 64,
   "metadata": {},
   "outputs": [],
   "source": [
    "from numpy import exp, array, random, dot, tanh "
   ]
  },
  {
   "cell_type": "code",
   "execution_count": 69,
   "metadata": {},
   "outputs": [],
   "source": [
    "\n"
   ]
  },
  {
   "cell_type": "code",
   "execution_count": 84,
   "metadata": {},
   "outputs": [],
   "source": [
    "#Red neuronal con una capa y función de activación tanh\n",
    "class NeuralNetwork(): \n",
    "      \n",
    "    def __init__(self): \n",
    "          \n",
    "        # Using seed to make sure it'll   \n",
    "        # generate same weights in every run \n",
    "        random.seed(1) \n",
    "          \n",
    "        # 3x1 Weight matrix \n",
    "        self.weight_matrix = 2 * random.random((3, 1)) - 1\n",
    "  \n",
    "    # tanh as activation fucntion \n",
    "    def sigmoid(self,X):\n",
    "        return 1/(1+np.exp(-X))\n",
    "\n",
    "  \n",
    "    # derivative of tanh function. \n",
    "    # Needed to calculate the gradients. \n",
    "    def sigmoid_derivative(self, x): \n",
    "        return 1 / (1 + exp(-x)) * (1 - (1 / (1 + exp(-x))))\n",
    "\n",
    "  \n",
    "    # forward propagation \n",
    "    #producto punto dentro de la función tangente entre las x y los pesos\n",
    "    def forward_propagation(self, inputs): \n",
    "        return self.sigmoid(dot(inputs, self.weight_matrix)) \n",
    "      \n",
    "    # training the neural network. \n",
    "    def train(self, train_inputs, train_outputs, \n",
    "                            num_train_iterations): \n",
    "                                  \n",
    "        # Number of iterations we want to \n",
    "        # perform for this set of input. \n",
    "        for iteration in range(num_train_iterations): \n",
    "            output = self.forward_propagation(train_inputs) \n",
    "  \n",
    "            # Calculate the error in the output. \n",
    "            #Diferencia entre lo calculado por la red y el real del data set\n",
    "            error = train_outputs - output \n",
    "  \n",
    "            # multiply the error by input and then  \n",
    "            # by gradient of tanh funtion to calculate \n",
    "            # the adjustment needs to be made in weights \n",
    "            adjustment = dot(train_inputs.T, error *\n",
    "                             self.sigmoid_derivative(output)) \n",
    "                               \n",
    "            # Adjust the weight matrix \n",
    "            self.weight_matrix += adjustment \n",
    "  "
   ]
  },
  {
   "cell_type": "code",
   "execution_count": null,
   "metadata": {},
   "outputs": [],
   "source": []
  },
  {
   "cell_type": "code",
   "execution_count": 77,
   "metadata": {},
   "outputs": [
    {
     "name": "stdout",
     "output_type": "stream",
     "text": "Random weights at the start of training\n[[-0.16595599]\n [ 0.44064899]\n [-0.99977125]]\nNew weights after training\n[[15.03841089]\n [-0.40582887]\n [-7.23346225]]\nTesting network on new examples ->\n[0.99999971]\n"
    }
   ],
   "source": [
    "#ejemplo con datos generados\n",
    "#Notas: las X's se programan en forma de matriz nxm\n",
    "#los outputs (y's) son un vector traspuesto, es decir vector vertical\n",
    "#yo le puedo poner un pandas dataframe convertido en matriz\n",
    "if __name__ == \"__main__\": \n",
    "      \n",
    "    neural_network = NeuralNetwork() \n",
    "      \n",
    "    print ('Random weights at the start of training') \n",
    "    print (neural_network.weight_matrix) \n",
    "  \n",
    "    train_inputs = array([[0, 0, 1], [1, 1, 1], [1, 0, 1], [0, 1, 1]]) \n",
    "    train_outputs = array([[0, 1, 1, 0]]).T \n",
    "  \n",
    "    neural_network.train(train_inputs, train_outputs, 10000) \n",
    "  \n",
    "    print ('New weights after training') \n",
    "    print (neural_network.weight_matrix) \n",
    "  \n",
    "    # Test the neural network with a new situation. \n",
    "    print (\"Testing network on new examples ->\") \n",
    "    print (neural_network.forward_propagation(array([1, 0, 0]))) "
   ]
  },
  {
   "cell_type": "code",
   "execution_count": 78,
   "metadata": {},
   "outputs": [],
   "source": [
    "#ejemplo con data frame de ayer\n",
    "import pandas as pd\n",
    "train = pd.read_csv(\"droop_filenames.csv\")"
   ]
  },
  {
   "cell_type": "code",
   "execution_count": 5,
   "metadata": {},
   "outputs": [
    {
     "data": {
      "text/html": "<div>\n<style scoped>\n    .dataframe tbody tr th:only-of-type {\n        vertical-align: middle;\n    }\n\n    .dataframe tbody tr th {\n        vertical-align: top;\n    }\n\n    .dataframe thead th {\n        text-align: right;\n    }\n</style>\n<table border=\"1\" class=\"dataframe\">\n  <thead>\n    <tr style=\"text-align: right;\">\n      <th></th>\n      <th>droop</th>\n      <th>filename</th>\n      <th>x0</th>\n      <th>y0</th>\n      <th>x1</th>\n      <th>y1</th>\n      <th>x2</th>\n      <th>y2</th>\n      <th>x3</th>\n      <th>y3</th>\n      <th>...</th>\n      <th>x63</th>\n      <th>y63</th>\n      <th>x64</th>\n      <th>y64</th>\n      <th>x65</th>\n      <th>y65</th>\n      <th>x66</th>\n      <th>y66</th>\n      <th>x67</th>\n      <th>y67</th>\n    </tr>\n  </thead>\n  <tbody>\n    <tr>\n      <th>0</th>\n      <td>0</td>\n      <td>keypoints/nodroop/nodroop1.jpg</td>\n      <td>182</td>\n      <td>180</td>\n      <td>187</td>\n      <td>199</td>\n      <td>192</td>\n      <td>217</td>\n      <td>199</td>\n      <td>235</td>\n      <td>...</td>\n      <td>267</td>\n      <td>235</td>\n      <td>288</td>\n      <td>230</td>\n      <td>268</td>\n      <td>236</td>\n      <td>259</td>\n      <td>238</td>\n      <td>251</td>\n      <td>238</td>\n    </tr>\n    <tr>\n      <th>1</th>\n      <td>0</td>\n      <td>keypoints/nodroop/nodroop2.jpg</td>\n      <td>245</td>\n      <td>137</td>\n      <td>247</td>\n      <td>150</td>\n      <td>251</td>\n      <td>164</td>\n      <td>256</td>\n      <td>177</td>\n      <td>...</td>\n      <td>307</td>\n      <td>181</td>\n      <td>322</td>\n      <td>177</td>\n      <td>308</td>\n      <td>181</td>\n      <td>301</td>\n      <td>183</td>\n      <td>294</td>\n      <td>183</td>\n    </tr>\n    <tr>\n      <th>2</th>\n      <td>0</td>\n      <td>keypoints/nodroop/nodroop3.jpg</td>\n      <td>111</td>\n      <td>192</td>\n      <td>114</td>\n      <td>220</td>\n      <td>120</td>\n      <td>246</td>\n      <td>125</td>\n      <td>272</td>\n      <td>...</td>\n      <td>230</td>\n      <td>282</td>\n      <td>258</td>\n      <td>289</td>\n      <td>230</td>\n      <td>297</td>\n      <td>214</td>\n      <td>297</td>\n      <td>200</td>\n      <td>295</td>\n    </tr>\n    <tr>\n      <th>3</th>\n      <td>0</td>\n      <td>keypoints/nodroop/nodroop4.jpg</td>\n      <td>126</td>\n      <td>212</td>\n      <td>127</td>\n      <td>238</td>\n      <td>131</td>\n      <td>265</td>\n      <td>136</td>\n      <td>292</td>\n      <td>...</td>\n      <td>229</td>\n      <td>299</td>\n      <td>257</td>\n      <td>303</td>\n      <td>229</td>\n      <td>299</td>\n      <td>217</td>\n      <td>300</td>\n      <td>205</td>\n      <td>299</td>\n    </tr>\n    <tr>\n      <th>4</th>\n      <td>0</td>\n      <td>keypoints/nodroop/nodroop5.jpg</td>\n      <td>131</td>\n      <td>204</td>\n      <td>129</td>\n      <td>227</td>\n      <td>132</td>\n      <td>252</td>\n      <td>135</td>\n      <td>278</td>\n      <td>...</td>\n      <td>231</td>\n      <td>294</td>\n      <td>260</td>\n      <td>295</td>\n      <td>231</td>\n      <td>292</td>\n      <td>220</td>\n      <td>293</td>\n      <td>209</td>\n      <td>291</td>\n    </tr>\n  </tbody>\n</table>\n<p>5 rows × 138 columns</p>\n</div>",
      "text/plain": "   droop                        filename   x0   y0   x1   y1   x2   y2   x3  \\\n0      0  keypoints/nodroop/nodroop1.jpg  182  180  187  199  192  217  199   \n1      0  keypoints/nodroop/nodroop2.jpg  245  137  247  150  251  164  256   \n2      0  keypoints/nodroop/nodroop3.jpg  111  192  114  220  120  246  125   \n3      0  keypoints/nodroop/nodroop4.jpg  126  212  127  238  131  265  136   \n4      0  keypoints/nodroop/nodroop5.jpg  131  204  129  227  132  252  135   \n\n    y3  ...  x63  y63  x64  y64  x65  y65  x66  y66  x67  y67  \n0  235  ...  267  235  288  230  268  236  259  238  251  238  \n1  177  ...  307  181  322  177  308  181  301  183  294  183  \n2  272  ...  230  282  258  289  230  297  214  297  200  295  \n3  292  ...  229  299  257  303  229  299  217  300  205  299  \n4  278  ...  231  294  260  295  231  292  220  293  209  291  \n\n[5 rows x 138 columns]"
     },
     "execution_count": 5,
     "metadata": {},
     "output_type": "execute_result"
    }
   ],
   "source": [
    "train.head()"
   ]
  },
  {
   "cell_type": "code",
   "execution_count": 104,
   "metadata": {},
   "outputs": [
    {
     "data": {
      "text/plain": "(297, 136)"
     },
     "execution_count": 104,
     "metadata": {},
     "output_type": "execute_result"
    }
   ],
   "source": [
    "#convierto en matriz mis x's\n",
    "import numpy as np\n",
    "traindata = np.asmatrix(train.loc[:,'x0':])\n",
    "traindata.shape"
   ]
  },
  {
   "cell_type": "code",
   "execution_count": 98,
   "metadata": {},
   "outputs": [
    {
     "data": {
      "text/plain": "matrix([['keypoints/nodroop/nodroop1.jpg', 182, 180, ..., 238, 251, 238],\n        ['keypoints/nodroop/nodroop2.jpg', 245, 137, ..., 183, 294, 183],\n        ['keypoints/nodroop/nodroop3.jpg', 111, 192, ..., 297, 200, 295],\n        ...,\n        ['keypoints/droop/droop188.jpg', 85, 323, ..., 495, 246, 495],\n        ['keypoints/droop/droop189.jpg', 149, 154, ..., 262, 242, 260],\n        ['keypoints/droop/droop190.jpg', 24, 338, ..., 495, 229, 493]],\n       dtype=object)"
     },
     "execution_count": 98,
     "metadata": {},
     "output_type": "execute_result"
    }
   ],
   "source": [
    "traindata\n"
   ]
  },
  {
   "cell_type": "code",
   "execution_count": 99,
   "metadata": {},
   "outputs": [],
   "source": [
    "label = train['droop'].to_numpy()"
   ]
  },
  {
   "cell_type": "code",
   "execution_count": 100,
   "metadata": {},
   "outputs": [
    {
     "data": {
      "text/plain": "array([0, 0, 0, 0, 0, 0, 0, 0, 0, 0, 0, 0, 0, 0, 0, 0, 0, 0, 0, 0, 0, 0,\n       0, 0, 0, 0, 0, 0, 0, 0, 0, 0, 0, 0, 0, 0, 0, 0, 0, 0, 0, 0, 0, 0,\n       0, 0, 0, 0, 0, 0, 0, 0, 0, 0, 0, 0, 0, 0, 0, 0, 0, 0, 0, 0, 0, 0,\n       0, 0, 0, 0, 0, 0, 0, 0, 0, 0, 0, 0, 0, 0, 0, 0, 0, 0, 0, 0, 0, 0,\n       0, 0, 0, 0, 0, 0, 0, 0, 0, 0, 0, 0, 0, 0, 0, 0, 0, 0, 0, 0, 0, 0,\n       0, 0, 0, 1, 1, 1, 1, 1, 1, 1, 1, 1, 1, 1, 1, 1, 1, 1, 1, 1, 1, 1,\n       1, 1, 1, 1, 1, 1, 1, 1, 1, 1, 1, 1, 1, 1, 1, 1, 1, 1, 1, 1, 1, 1,\n       1, 1, 1, 1, 1, 1, 1, 1, 1, 1, 1, 1, 1, 1, 1, 1, 1, 1, 1, 1, 1, 1,\n       1, 1, 1, 1, 1, 1, 1, 1, 1, 1, 1, 1, 1, 1, 1, 1, 1, 1, 1, 1, 1, 1,\n       1, 1, 1, 1, 1, 1, 1, 1, 1, 1, 1, 1, 1, 1, 1, 1, 1, 1, 1, 1, 1, 1,\n       1, 1, 1, 1, 1, 1, 1, 1, 1, 1, 1, 1, 1, 1, 1, 1, 1, 1, 1, 1, 1, 1,\n       1, 1, 1, 1, 1, 1, 1, 1, 1, 1, 1, 1, 1, 1, 1, 1, 1, 1, 1, 1, 1, 1,\n       1, 1, 1, 1, 1, 1, 1, 1, 1, 1, 1, 1, 1, 1, 1, 1, 1, 1, 1, 1, 1, 1,\n       1, 1, 1, 1, 1, 1, 1, 1, 1, 1, 1], dtype=int64)"
     },
     "execution_count": 100,
     "metadata": {},
     "output_type": "execute_result"
    }
   ],
   "source": [
    "label"
   ]
  },
  {
   "cell_type": "code",
   "execution_count": 101,
   "metadata": {},
   "outputs": [
    {
     "data": {
      "text/plain": "array([0, 0, 0, 0, 0, 0, 0, 0, 0, 0, 0, 0, 0, 0, 0, 0, 0, 0, 0, 0, 0, 0,\n       0, 0, 0, 0, 0, 0, 0, 0, 0, 0, 0, 0, 0, 0, 0, 0, 0, 0, 0, 0, 0, 0,\n       0, 0, 0, 0, 0, 0, 0, 0, 0, 0, 0, 0, 0, 0, 0, 0, 0, 0, 0, 0, 0, 0,\n       0, 0, 0, 0, 0, 0, 0, 0, 0, 0, 0, 0, 0, 0, 0, 0, 0, 0, 0, 0, 0, 0,\n       0, 0, 0, 0, 0, 0, 0, 0, 0, 0, 0, 0, 0, 0, 0, 0, 0, 0, 0, 0, 0, 0,\n       0, 0, 0, 1, 1, 1, 1, 1, 1, 1, 1, 1, 1, 1, 1, 1, 1, 1, 1, 1, 1, 1,\n       1, 1, 1, 1, 1, 1, 1, 1, 1, 1, 1, 1, 1, 1, 1, 1, 1, 1, 1, 1, 1, 1,\n       1, 1, 1, 1, 1, 1, 1, 1, 1, 1, 1, 1, 1, 1, 1, 1, 1, 1, 1, 1, 1, 1,\n       1, 1, 1, 1, 1, 1, 1, 1, 1, 1, 1, 1, 1, 1, 1, 1, 1, 1, 1, 1, 1, 1,\n       1, 1, 1, 1, 1, 1, 1, 1, 1, 1, 1, 1, 1, 1, 1, 1, 1, 1, 1, 1, 1, 1,\n       1, 1, 1, 1, 1, 1, 1, 1, 1, 1, 1, 1, 1, 1, 1, 1, 1, 1, 1, 1, 1, 1,\n       1, 1, 1, 1, 1, 1, 1, 1, 1, 1, 1, 1, 1, 1, 1, 1, 1, 1, 1, 1, 1, 1,\n       1, 1, 1, 1, 1, 1, 1, 1, 1, 1, 1, 1, 1, 1, 1, 1, 1, 1, 1, 1, 1, 1,\n       1, 1, 1, 1, 1, 1, 1, 1, 1, 1, 1], dtype=int64)"
     },
     "execution_count": 101,
     "metadata": {},
     "output_type": "execute_result"
    }
   ],
   "source": [
    "#convierto en vector vertical mis y's\n",
    "train_outputs = label.T \n",
    "train_outputs"
   ]
  },
  {
   "cell_type": "code",
   "execution_count": 102,
   "metadata": {},
   "outputs": [
    {
     "data": {
      "text/plain": "(297,)"
     },
     "execution_count": 102,
     "metadata": {},
     "output_type": "execute_result"
    }
   ],
   "source": [
    "train_outputs.shape\n"
   ]
  },
  {
   "cell_type": "code",
   "execution_count": 103,
   "metadata": {},
   "outputs": [
    {
     "name": "stdout",
     "output_type": "stream",
     "text": "Random weights at the start of training\n[[-0.16595599]\n [ 0.44064899]\n [-0.99977125]]\n[[182 245 111 126 131 126 130 144  96 146 143 117 139 118 172 111 112 137\n  132 115 124 149 132 195 139 136 213 151  94 110 107 110 151 138 123 166\n  161 142 187 140 146 154 132 157  44 138  60 175  62 123 143 162 160 198\n  148 223 255 234 101 174 128 133 180 143 143 163 158 136 132 172 170 148\n  119 124  92 108  97 131 157  98 108 138 191 163 141 137 136 136 158 157\n  151 141 270 239 176 126 137 168 141 142 114 126 122 123 157 118 138 120\n  114 130 114 138 116 118 139  49 146 119 -26 -12 119 117  52  52  43 102\n  103 181  62  16  69  86 101 121 156 178 131 109 125  99 129 140 132 166\n  126 176 152  57  37  45  78  24  64 155 155 122  57  53 175 137 129 140\n   54  75 140  91 214 110  59 104 115 116  99  55  33  46  37 113  73  38\n   79  70  14  82  62  65  70  83  43  42  48  60  86  25  56  43  43  57\n   81 407  52  87  63  87  46  70  27  33  57 120  87  19  85  99  99  85\n   91  -3  94  88  34  75  63  89  89  65  52  69  89  49  61  70  52  36\n   75  52  83  64  65  85  63  80  79  52  47  37 122 112  58  54  71 100\n   94  82  33 155  81  91  97 110  88 147 175 134  69 121 166  53  25 215\n   65 112  77  76 113 105 193  45 104  72 131 183  22 155  90  62  -7 130\n   99  51  31 120  44  95  85 149  24]]\n[0 0 0 0 0 0 0 0 0 0 0 0 0 0 0 0 0 0 0 0 0 0 0 0 0 0 0 0 0 0 0 0 0 0 0 0 0\n 0 0 0 0 0 0 0 0 0 0 0 0 0 0 0 0 0 0 0 0 0 0 0 0 0 0 0 0 0 0 0 0 0 0 0 0 0\n 0 0 0 0 0 0 0 0 0 0 0 0 0 0 0 0 0 0 0 0 0 0 0 0 0 0 0 0 0 0 0 0 0 0 0 0 0\n 0 0 1 1 1 1 1 1 1 1 1 1 1 1 1 1 1 1 1 1 1 1 1 1 1 1 1 1 1 1 1 1 1 1 1 1 1\n 1 1 1 1 1 1 1 1 1 1 1 1 1 1 1 1 1 1 1 1 1 1 1 1 1 1 1 1 1 1 1 1 1 1 1 1 1\n 1 1 1 1 1 1 1 1 1 1 1 1 1 1 1 1 1 1 1 1 1 1 1 1 1 1 1 1 1 1 1 1 1 1 1 1 1\n 1 1 1 1 1 1 1 1 1 1 1 1 1 1 1 1 1 1 1 1 1 1 1 1 1 1 1 1 1 1 1 1 1 1 1 1 1\n 1 1 1 1 1 1 1 1 1 1 1 1 1 1 1 1 1 1 1 1 1 1 1 1 1 1 1 1 1 1 1 1 1 1 1 1 1\n 1]\n"
    },
    {
     "ename": "ValueError",
     "evalue": "shapes (1,297) and (3,1) not aligned: 297 (dim 1) != 3 (dim 0)",
     "output_type": "error",
     "traceback": [
      "\u001b[1;31m---------------------------------------------------------------------------\u001b[0m",
      "\u001b[1;31mValueError\u001b[0m                                Traceback (most recent call last)",
      "\u001b[1;32m<ipython-input-103-5f0397c85335>\u001b[0m in \u001b[0;36m<module>\u001b[1;34m\u001b[0m\n\u001b[0;32m     12\u001b[0m     \u001b[0mprint\u001b[0m\u001b[1;33m(\u001b[0m\u001b[0mtrain_outputs\u001b[0m\u001b[1;33m)\u001b[0m\u001b[1;33m\u001b[0m\u001b[1;33m\u001b[0m\u001b[0m\n\u001b[0;32m     13\u001b[0m \u001b[1;33m\u001b[0m\u001b[0m\n\u001b[1;32m---> 14\u001b[1;33m     \u001b[0mneural_network\u001b[0m\u001b[1;33m.\u001b[0m\u001b[0mtrain\u001b[0m\u001b[1;33m(\u001b[0m\u001b[0mtrain_inputs\u001b[0m\u001b[1;33m,\u001b[0m \u001b[0mtrain_outputs\u001b[0m\u001b[1;33m,\u001b[0m \u001b[1;36m1\u001b[0m\u001b[1;33m)\u001b[0m\u001b[1;33m\u001b[0m\u001b[1;33m\u001b[0m\u001b[0m\n\u001b[0m\u001b[0;32m     15\u001b[0m \u001b[1;33m\u001b[0m\u001b[0m\n\u001b[0;32m     16\u001b[0m     \u001b[0mprint\u001b[0m \u001b[1;33m(\u001b[0m\u001b[1;34m'New weights after training'\u001b[0m\u001b[1;33m)\u001b[0m\u001b[1;33m\u001b[0m\u001b[1;33m\u001b[0m\u001b[0m\n",
      "\u001b[1;32m<ipython-input-84-6c5bbd2ea938>\u001b[0m in \u001b[0;36mtrain\u001b[1;34m(self, train_inputs, train_outputs, num_train_iterations)\u001b[0m\n\u001b[0;32m     34\u001b[0m         \u001b[1;31m# perform for this set of input.\u001b[0m\u001b[1;33m\u001b[0m\u001b[1;33m\u001b[0m\u001b[1;33m\u001b[0m\u001b[0m\n\u001b[0;32m     35\u001b[0m         \u001b[1;32mfor\u001b[0m \u001b[0miteration\u001b[0m \u001b[1;32min\u001b[0m \u001b[0mrange\u001b[0m\u001b[1;33m(\u001b[0m\u001b[0mnum_train_iterations\u001b[0m\u001b[1;33m)\u001b[0m\u001b[1;33m:\u001b[0m\u001b[1;33m\u001b[0m\u001b[1;33m\u001b[0m\u001b[0m\n\u001b[1;32m---> 36\u001b[1;33m             \u001b[0moutput\u001b[0m \u001b[1;33m=\u001b[0m \u001b[0mself\u001b[0m\u001b[1;33m.\u001b[0m\u001b[0mforward_propagation\u001b[0m\u001b[1;33m(\u001b[0m\u001b[0mtrain_inputs\u001b[0m\u001b[1;33m)\u001b[0m\u001b[1;33m\u001b[0m\u001b[1;33m\u001b[0m\u001b[0m\n\u001b[0m\u001b[0;32m     37\u001b[0m \u001b[1;33m\u001b[0m\u001b[0m\n\u001b[0;32m     38\u001b[0m             \u001b[1;31m# Calculate the error in the output.\u001b[0m\u001b[1;33m\u001b[0m\u001b[1;33m\u001b[0m\u001b[1;33m\u001b[0m\u001b[0m\n",
      "\u001b[1;32m<ipython-input-84-6c5bbd2ea938>\u001b[0m in \u001b[0;36mforward_propagation\u001b[1;34m(self, inputs)\u001b[0m\n\u001b[0;32m     25\u001b[0m     \u001b[1;31m#producto punto dentro de la función tangente entre las x y los pesos\u001b[0m\u001b[1;33m\u001b[0m\u001b[1;33m\u001b[0m\u001b[1;33m\u001b[0m\u001b[0m\n\u001b[0;32m     26\u001b[0m     \u001b[1;32mdef\u001b[0m \u001b[0mforward_propagation\u001b[0m\u001b[1;33m(\u001b[0m\u001b[0mself\u001b[0m\u001b[1;33m,\u001b[0m \u001b[0minputs\u001b[0m\u001b[1;33m)\u001b[0m\u001b[1;33m:\u001b[0m\u001b[1;33m\u001b[0m\u001b[1;33m\u001b[0m\u001b[0m\n\u001b[1;32m---> 27\u001b[1;33m         \u001b[1;32mreturn\u001b[0m \u001b[0mself\u001b[0m\u001b[1;33m.\u001b[0m\u001b[0msigmoid\u001b[0m\u001b[1;33m(\u001b[0m\u001b[0mdot\u001b[0m\u001b[1;33m(\u001b[0m\u001b[0minputs\u001b[0m\u001b[1;33m,\u001b[0m \u001b[0mself\u001b[0m\u001b[1;33m.\u001b[0m\u001b[0mweight_matrix\u001b[0m\u001b[1;33m)\u001b[0m\u001b[1;33m)\u001b[0m\u001b[1;33m\u001b[0m\u001b[1;33m\u001b[0m\u001b[0m\n\u001b[0m\u001b[0;32m     28\u001b[0m \u001b[1;33m\u001b[0m\u001b[0m\n\u001b[0;32m     29\u001b[0m     \u001b[1;31m# training the neural network.\u001b[0m\u001b[1;33m\u001b[0m\u001b[1;33m\u001b[0m\u001b[1;33m\u001b[0m\u001b[0m\n",
      "\u001b[1;32m<__array_function__ internals>\u001b[0m in \u001b[0;36mdot\u001b[1;34m(*args, **kwargs)\u001b[0m\n",
      "\u001b[1;31mValueError\u001b[0m: shapes (1,297) and (3,1) not aligned: 297 (dim 1) != 3 (dim 0)"
     ]
    }
   ],
   "source": [
    "if __name__ == \"__main__\": \n",
    "      \n",
    "    neural_network = NeuralNetwork() \n",
    "      \n",
    "    print ('Random weights at the start of training') \n",
    "    print (neural_network.weight_matrix) \n",
    "  \n",
    "    train_inputs = np.asmatrix(train.loc[:,'x0'])\n",
    "    # train_inputs = np.asmatrix(train.loc[:,'filename':])\n",
    "    print(train_inputs)\n",
    "    train_outputs = label.T  \n",
    "    print(train_outputs)\n",
    "  \n",
    "    neural_network.train(train_inputs, train_outputs, 1) \n",
    "  \n",
    "    print ('New weights after training') \n",
    "    print (neural_network.weight_matrix) \n",
    "  \n"
   ]
  },
  {
   "cell_type": "code",
   "execution_count": 92,
   "metadata": {},
   "outputs": [],
   "source": [
    "#probamos la red en el data set de test\n",
    "test  = pd.read_csv(\"droop_filenames.csv\")\n",
    "testdata = np.asmatrix(test)"
   ]
  },
  {
   "cell_type": "code",
   "execution_count": 93,
   "metadata": {},
   "outputs": [
    {
     "name": "stdout",
     "output_type": "stream",
     "text": "Testing network on new examples ->\n"
    },
    {
     "ename": "ValueError",
     "evalue": "shapes (297,138) and (3,1) not aligned: 138 (dim 1) != 3 (dim 0)",
     "output_type": "error",
     "traceback": [
      "\u001b[1;31m---------------------------------------------------------------------------\u001b[0m",
      "\u001b[1;31mValueError\u001b[0m                                Traceback (most recent call last)",
      "\u001b[1;32m<ipython-input-93-b1b43486a129>\u001b[0m in \u001b[0;36m<module>\u001b[1;34m\u001b[0m\n\u001b[0;32m      1\u001b[0m \u001b[1;31m# Test the neural network with a new situation.\u001b[0m\u001b[1;33m\u001b[0m\u001b[1;33m\u001b[0m\u001b[1;33m\u001b[0m\u001b[0m\n\u001b[0;32m      2\u001b[0m \u001b[0mprint\u001b[0m \u001b[1;33m(\u001b[0m\u001b[1;34m\"Testing network on new examples ->\"\u001b[0m\u001b[1;33m)\u001b[0m\u001b[1;33m\u001b[0m\u001b[1;33m\u001b[0m\u001b[0m\n\u001b[1;32m----> 3\u001b[1;33m \u001b[0mprint\u001b[0m \u001b[1;33m(\u001b[0m\u001b[0mneural_network\u001b[0m\u001b[1;33m.\u001b[0m\u001b[0mforward_propagation\u001b[0m\u001b[1;33m(\u001b[0m\u001b[0mtestdata\u001b[0m\u001b[1;33m)\u001b[0m \u001b[1;33m)\u001b[0m\u001b[1;33m\u001b[0m\u001b[1;33m\u001b[0m\u001b[0m\n\u001b[0m",
      "\u001b[1;32m<ipython-input-84-6c5bbd2ea938>\u001b[0m in \u001b[0;36mforward_propagation\u001b[1;34m(self, inputs)\u001b[0m\n\u001b[0;32m     25\u001b[0m     \u001b[1;31m#producto punto dentro de la función tangente entre las x y los pesos\u001b[0m\u001b[1;33m\u001b[0m\u001b[1;33m\u001b[0m\u001b[1;33m\u001b[0m\u001b[0m\n\u001b[0;32m     26\u001b[0m     \u001b[1;32mdef\u001b[0m \u001b[0mforward_propagation\u001b[0m\u001b[1;33m(\u001b[0m\u001b[0mself\u001b[0m\u001b[1;33m,\u001b[0m \u001b[0minputs\u001b[0m\u001b[1;33m)\u001b[0m\u001b[1;33m:\u001b[0m\u001b[1;33m\u001b[0m\u001b[1;33m\u001b[0m\u001b[0m\n\u001b[1;32m---> 27\u001b[1;33m         \u001b[1;32mreturn\u001b[0m \u001b[0mself\u001b[0m\u001b[1;33m.\u001b[0m\u001b[0msigmoid\u001b[0m\u001b[1;33m(\u001b[0m\u001b[0mdot\u001b[0m\u001b[1;33m(\u001b[0m\u001b[0minputs\u001b[0m\u001b[1;33m,\u001b[0m \u001b[0mself\u001b[0m\u001b[1;33m.\u001b[0m\u001b[0mweight_matrix\u001b[0m\u001b[1;33m)\u001b[0m\u001b[1;33m)\u001b[0m\u001b[1;33m\u001b[0m\u001b[1;33m\u001b[0m\u001b[0m\n\u001b[0m\u001b[0;32m     28\u001b[0m \u001b[1;33m\u001b[0m\u001b[0m\n\u001b[0;32m     29\u001b[0m     \u001b[1;31m# training the neural network.\u001b[0m\u001b[1;33m\u001b[0m\u001b[1;33m\u001b[0m\u001b[1;33m\u001b[0m\u001b[0m\n",
      "\u001b[1;32m<__array_function__ internals>\u001b[0m in \u001b[0;36mdot\u001b[1;34m(*args, **kwargs)\u001b[0m\n",
      "\u001b[1;31mValueError\u001b[0m: shapes (297,138) and (3,1) not aligned: 138 (dim 1) != 3 (dim 0)"
     ]
    }
   ],
   "source": [
    "    # Test the neural network with a new situation. \n",
    "    print (\"Testing network on new examples ->\") \n",
    "    print (neural_network.forward_propagation(testdata) )"
   ]
  },
  {
   "cell_type": "code",
   "execution_count": null,
   "metadata": {},
   "outputs": [],
   "source": []
  }
 ],
 "metadata": {
  "kernelspec": {
   "display_name": "Python 3",
   "language": "python",
   "name": "python3"
  },
  "language_info": {
   "codemirror_mode": {
    "name": "ipython",
    "version": 3
   },
   "file_extension": ".py",
   "mimetype": "text/x-python",
   "name": "python",
   "nbconvert_exporter": "python",
   "pygments_lexer": "ipython3",
   "version": "3.6.7-final"
  }
 },
 "nbformat": 4,
 "nbformat_minor": 2
}